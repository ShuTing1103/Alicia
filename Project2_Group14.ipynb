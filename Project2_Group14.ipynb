{
  "nbformat": 4,
  "nbformat_minor": 0,
  "metadata": {
    "colab": {
      "name": "Project2_Group14.ipynb",
      "provenance": [],
      "authorship_tag": "ABX9TyMUxVtlYpLPdEKe1bPjQTN8",
      "include_colab_link": true
    },
    "kernelspec": {
      "name": "python3",
      "display_name": "Python 3"
    },
    "accelerator": "GPU"
  },
  "cells": [
    {
      "cell_type": "markdown",
      "metadata": {
        "id": "view-in-github",
        "colab_type": "text"
      },
      "source": [
        "<a href=\"https://colab.research.google.com/github/ShuTing1103/Alicia/blob/master/Project2_Group14.ipynb\" target=\"_parent\"><img src=\"https://colab.research.google.com/assets/colab-badge.svg\" alt=\"Open In Colab\"/></a>"
      ]
    },
    {
      "cell_type": "markdown",
      "metadata": {
        "id": "H7X9dLBO6Izl"
      },
      "source": [
        "# ELEC5307 Project #2: Challenge in Image Classification\n",
        "\n",
        "### Task1: Predefined Networks\n",
        "In this task, we are using the AlexNet. by copy the class from torchvision to 'network.py'."
      ]
    },
    {
      "cell_type": "code",
      "metadata": {
        "id": "2UmZ-tLDA6o_"
      },
      "source": [
        "!python project2_codes/network.py"
      ],
      "execution_count": 7,
      "outputs": []
    }
  ]
}